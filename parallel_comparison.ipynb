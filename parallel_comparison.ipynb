{
  "cells": [
    {
      "cell_type": "markdown",
      "metadata": {
        "id": "view-in-github",
        "colab_type": "text"
      },
      "source": [
        "<a href=\"https://colab.research.google.com/github/rgilyard/parallel-edge-detection/blob/main/parallel_comparison.ipynb\" target=\"_parent\"><img src=\"https://colab.research.google.com/assets/colab-badge.svg\" alt=\"Open In Colab\"/></a>"
      ]
    },
    {
      "cell_type": "markdown",
      "id": "6ab372b5-f2bd-40e6-859a-a107bbdc8973",
      "metadata": {
        "id": "6ab372b5-f2bd-40e6-859a-a107bbdc8973"
      },
      "source": [
        "# Edge Detection and Parallel Processing"
      ]
    },
    {
      "cell_type": "markdown",
      "id": "d97f7c60-6bb6-40ea-a5c7-08e7b08d187e",
      "metadata": {
        "id": "d97f7c60-6bb6-40ea-a5c7-08e7b08d187e"
      },
      "source": [
        "## Import Libraries"
      ]
    },
    {
      "cell_type": "code",
      "execution_count": 1,
      "id": "1a7083cf-d0e4-4440-93d6-a3be452b46b8",
      "metadata": {
        "id": "1a7083cf-d0e4-4440-93d6-a3be452b46b8"
      },
      "outputs": [],
      "source": [
        "import torch\n",
        "from PIL import Image, ImageOps\n",
        "import os\n",
        "import numpy as np"
      ]
    },
    {
      "cell_type": "code",
      "execution_count": 2,
      "id": "d8c45206",
      "metadata": {
        "colab": {
          "base_uri": "https://localhost:8080/"
        },
        "id": "d8c45206",
        "outputId": "c2c70e7d-0a30-4538-d45e-52e73087b703"
      },
      "outputs": [
        {
          "output_type": "stream",
          "name": "stdout",
          "text": [
            "Number of available GPUs: 0\n"
          ]
        }
      ],
      "source": [
        "print(\"Number of available GPUs:\", torch.cuda.device_count())"
      ]
    },
    {
      "cell_type": "markdown",
      "id": "3edd2fb2-ce2c-487c-863f-3fe39332c114",
      "metadata": {
        "id": "3edd2fb2-ce2c-487c-863f-3fe39332c114"
      },
      "source": [
        "### Check that CUDA is available"
      ]
    },
    {
      "cell_type": "code",
      "execution_count": 3,
      "id": "69b16dfc",
      "metadata": {
        "colab": {
          "base_uri": "https://localhost:8080/"
        },
        "id": "69b16dfc",
        "outputId": "3b47fa68-56cf-4b95-eb74-d4129269b14e"
      },
      "outputs": [
        {
          "output_type": "stream",
          "name": "stdout",
          "text": [
            "using cpu device\n",
            "cpu\n"
          ]
        }
      ],
      "source": [
        "if torch.cuda.is_available():\n",
        "    device = torch.device(\"cuda\")  # Use index 1 instead of the default index 0\n",
        "else:\n",
        "    device = torch.device(\"cpu\")\n",
        "\n",
        "print(\"using\", device, \"device\")\n",
        "print(device)"
      ]
    },
    {
      "cell_type": "markdown",
      "id": "ef5111f8-0fc3-4e7d-93a8-77a5ef835e5a",
      "metadata": {
        "id": "ef5111f8-0fc3-4e7d-93a8-77a5ef835e5a"
      },
      "source": [
        "## Set image folder paths"
      ]
    },
    {
      "cell_type": "code",
      "execution_count": 4,
      "id": "86d183c5",
      "metadata": {
        "colab": {
          "base_uri": "https://localhost:8080/"
        },
        "id": "86d183c5",
        "outputId": "13a2810e-4379-40f0-c271-f3df104c5866"
      },
      "outputs": [
        {
          "output_type": "stream",
          "name": "stdout",
          "text": [
            "Mounted at /content/drive\n"
          ]
        }
      ],
      "source": [
        "# For colab\n",
        "# Mount google drive\n",
        "from google.colab import drive\n",
        "drive.mount('/content/drive')\n",
        "image_folder = '/content/drive/My Drive/COMP 620 Group Project/edge_gpu/images'\n",
        "\n",
        "\n",
        "# Input and output paths\n",
        "# image_folder = 'images'\n",
        "input_folder_path = 'input'\n",
        "output_folder_path = 'output'\n",
        "\n",
        "# Dummy path for multiple sequential loading\n",
        "dummy = 'dummy_class'\n",
        "single = 'single_images'\n",
        "\n",
        "# Multiple image paths\n",
        "img_16 = '16_images'\n",
        "img_64 = '64_images'\n",
        "img_256 = '256_images'\n",
        "img_1024 = '1024_images'\n",
        "img_4096 = '4096_images'\n",
        "# multiple_image_paths = [img_16, img_64, img_256, img_1024, img_4096]\n",
        "multiple_image_paths = [img_16, img_64, img_256, img_1024]\n",
        "\n",
        "# Single image paths\n",
        "x_small = 'pipe.png'\n",
        "small = 'cardsharps.png'\n",
        "med = 'washington.png'\n",
        "large = 'pedlar.jpg'\n",
        "x_large = 'pearl.png'\n",
        "# single_image_paths = [x_small, small, med, large, x_large]\n",
        "single_image_paths = [x_small, small, med, large]\n",
        "\n",
        "# Lists for the algorithms to run, input then output paths\n",
        "# Should I do input and output as a tuple, and then the type of data as a title as a dict?\n",
        "# I'll do this better later\n",
        "multiple_sequential_paths = []\n",
        "multiple_parallel_paths = []\n",
        "single_sequential_paths = []\n",
        "single_parallel_paths = []\n",
        "\n",
        "# Make multiple image path lists\n",
        "for path in multiple_image_paths:\n",
        "    sequential = (os.path.join(image_folder, input_folder_path, path, dummy, ''), \\\n",
        "                  os.path.join(image_folder, output_folder_path, path, ''))\n",
        "    multiple_sequential_paths.append(sequential)\n",
        "    parallel = (os.path.join(image_folder, input_folder_path, path, ''), \\\n",
        "                  os.path.join(image_folder, output_folder_path, path, ''))\n",
        "    multiple_parallel_paths.append(parallel)\n",
        "                \n",
        "# Make single image path lists\n",
        "for path in single_image_paths:\n",
        "    sequential = (os.path.join(image_folder, input_folder_path, single, path), \\\n",
        "                  os.path.join(image_folder, output_folder_path, single, path))\n",
        "    single_sequential_paths.append(sequential)\n",
        "    parallel = (os.path.join(image_folder, input_folder_path, single, path), \\\n",
        "                  os.path.join(image_folder, output_folder_path, single, path))\n",
        "    single_parallel_paths.append(parallel)\n"
      ]
    },
    {
      "cell_type": "markdown",
      "id": "17ad0d36",
      "metadata": {
        "id": "17ad0d36"
      },
      "source": [
        "## Set parameters"
      ]
    },
    {
      "cell_type": "code",
      "execution_count": 5,
      "id": "d9bbd417",
      "metadata": {
        "id": "d9bbd417"
      },
      "outputs": [],
      "source": [
        "# This prevents pillow from throwing a DecompressionBombError for the largest images\n",
        "Image.MAX_IMAGE_PIXELS = 10_000_000_000\n",
        "\n",
        "patch_size = 1024\n",
        "batch_size = 64 # Number of image in a dataloader batch\n",
        "num_workers = 2 # Parallelization for dataloading (CPU, not GPU)"
      ]
    },
    {
      "cell_type": "markdown",
      "id": "5039474a",
      "metadata": {
        "id": "5039474a"
      },
      "source": [
        "### Set constants"
      ]
    },
    {
      "cell_type": "code",
      "execution_count": 6,
      "id": "9b54ed3b",
      "metadata": {
        "id": "9b54ed3b"
      },
      "outputs": [],
      "source": [
        "# ADD CONSTANTS FOR PARALLEL AND SEQUENTIAL KERNELS, maybe define kernel separately\n",
        "\n",
        "# Sequential Sobel kernels\n",
        "sobel_x_kernel_seq = np.array([[-1, 0, 1], [-2, 0, 2], [-1, 0, 1]], dtype=np.float32)\n",
        "sobel_y_kernel_seq = np.array([[-1, -2, -1], [0, 0, 0], [1, 2, 1]], dtype=np.float32)\n",
        "\n",
        "# Sobel operator kernels for horizontal and vertical edges (parallel)\n",
        "sobel_x_kernel_par = torch.tensor([[-1, 0, 1], [-2, 0, 2], [-1, 0, 1]], dtype=torch.float32)\n",
        "sobel_y_kernel_par = torch.tensor([[-1, -2, -1], [0, 0, 0], [1, 2, 1]], dtype=torch.float32)\n",
        "\n",
        "# Unsqueeze the Sobel kernels to match the shape\n",
        "# (C_out, C_in, H_kernel, W_kernel)\n",
        "sobel_x_kernel_expanded = sobel_x_kernel_par.unsqueeze(0).unsqueeze(0).to(device)\n",
        "sobel_y_kernel_expanded = sobel_y_kernel_par.unsqueeze(0).unsqueeze(0).to(device)\n",
        "# sobel_y_kernel_expanded = sobel_y_kernel_par.unsqueeze(0).unsqueeze(0).to('cuda')"
      ]
    },
    {
      "cell_type": "markdown",
      "id": "34a96c0d",
      "metadata": {
        "id": "34a96c0d"
      },
      "source": [
        "### Additional Functions"
      ]
    },
    {
      "cell_type": "code",
      "execution_count": 7,
      "id": "18b8151c",
      "metadata": {
        "id": "18b8151c"
      },
      "outputs": [],
      "source": [
        "import torchvision.transforms.functional as F\n",
        "\n",
        "# Function to save tensor to image\n",
        "def save_image_from_tensor(tensor_img, output_path):\n",
        "    # Convert the tensor back to a PIL image\n",
        "    pil_img = F.to_pil_image(tensor_img)\n",
        "    \n",
        "    # Save the image to the output folder\n",
        "    pil_img.save(output_path)"
      ]
    },
    {
      "cell_type": "markdown",
      "id": "6e293214-38ed-41a8-bd4a-05f91c29d6ae",
      "metadata": {
        "id": "6e293214-38ed-41a8-bd4a-05f91c29d6ae"
      },
      "source": [
        "## Sequential Edge Detection Algorithms"
      ]
    },
    {
      "cell_type": "markdown",
      "id": "5cd4e4ca",
      "metadata": {
        "id": "5cd4e4ca"
      },
      "source": [
        "#### Libraries"
      ]
    },
    {
      "cell_type": "code",
      "execution_count": 8,
      "id": "3bfe76aa",
      "metadata": {
        "id": "3bfe76aa"
      },
      "outputs": [],
      "source": [
        "import glob\n",
        "from scipy import ndimage\n",
        "import gc"
      ]
    },
    {
      "cell_type": "markdown",
      "id": "cd02773b-a82e-42c4-b7f6-0004f2368104",
      "metadata": {
        "id": "cd02773b-a82e-42c4-b7f6-0004f2368104"
      },
      "source": [
        "### Sequential Single Image Algorithm"
      ]
    },
    {
      "cell_type": "code",
      "execution_count": 9,
      "id": "b04617da",
      "metadata": {
        "id": "b04617da"
      },
      "outputs": [],
      "source": [
        "# Edge detection for single image\n",
        "def sequential_single(file_path, output_folder, patch_size=patch_size, overlap=1):\n",
        "    # Load the image and convert it to grayscale\n",
        "    img = Image.open(file_path).convert(\"L\")\n",
        "    width, height = img.size\n",
        "\n",
        "    # Create an empty output image\n",
        "    output_img = Image.new(\"L\", (width, height))\n",
        "\n",
        "    # Calculate the number of patches in both dimensions\n",
        "    num_patches_w = math.ceil((width - patch_size) / (patch_size - overlap)) + 1\n",
        "    num_patches_h = math.ceil((height - patch_size) / (patch_size - overlap)) + 1\n",
        "\n",
        "    for i in range(num_patches_h):\n",
        "        for j in range(num_patches_w):\n",
        "            # Extract a patch from the large image\n",
        "            left = j * (patch_size - overlap)\n",
        "            upper = i * (patch_size - overlap)\n",
        "            right = min(left + patch_size, width)\n",
        "            lower = min(upper + patch_size, height)\n",
        "            patch = img.crop((left, upper, right, lower))\n",
        "\n",
        "            # Convert the patch to a numpy array\n",
        "            patch_array = np.asarray(patch, dtype=np.float32)\n",
        "\n",
        "            # Apply Sobel kernels to the patch\n",
        "            edge_x = ndimage.convolve(patch_array, sobel_x_kernel_seq, mode=\"constant\", cval=0)\n",
        "            edge_y = ndimage.convolve(patch_array, sobel_y_kernel_seq, mode=\"constant\", cval=0)\n",
        "\n",
        "            # Calculate the magnitude of the gradients\n",
        "            edge_magnitude = np.sqrt(edge_x ** 2 + edge_y ** 2)\n",
        "\n",
        "            # Normalize the edge magnitude to the range [0, 255]\n",
        "            edge_magnitude = edge_magnitude.astype(np.uint8)\n",
        "\n",
        "            # Create a PIL Image from the numpy array\n",
        "            edge_patch = Image.fromarray(edge_magnitude)\n",
        "\n",
        "            # Paste the edge-detected patch into the output image\n",
        "            output_img.paste(edge_patch, (left, upper))\n",
        "    \n",
        "    del img\n",
        "    gc.collect()\n",
        "\n",
        "    # Save the edge-detected image to the output folder\n",
        "    output_img.save(output_folder)"
      ]
    },
    {
      "cell_type": "markdown",
      "id": "b9a972bf-af9a-4bdf-aab9-2e07fc2a8252",
      "metadata": {
        "id": "b9a972bf-af9a-4bdf-aab9-2e07fc2a8252"
      },
      "source": [
        "### Sequential Multiple Image Algorithm"
      ]
    },
    {
      "cell_type": "code",
      "execution_count": 10,
      "id": "6bce519a",
      "metadata": {
        "id": "6bce519a"
      },
      "outputs": [],
      "source": [
        "# Sequential algorithm for all the images in a folder\n",
        "def sequential_multiple(input_folder, output_folder):\n",
        "    # Get the list of image file paths in the input folder\n",
        "    image_files = glob.glob(os.path.join(input_folder, \"*\"))\n",
        "\n",
        "    # Iterate through each image file\n",
        "    for index, file_path in enumerate(image_files):\n",
        "        # Load the image and convert it to grayscale\n",
        "        img = Image.open(file_path).convert(\"L\")\n",
        "\n",
        "        # Convert the image to a numpy array\n",
        "        img_array = np.asarray(img, dtype=np.float32)\n",
        "\n",
        "        # Apply Sobel kernels to the image\n",
        "        edge_x = ndimage.convolve(img_array, sobel_x_kernel_seq, mode=\"constant\", cval=0)\n",
        "        edge_y = ndimage.convolve(img_array, sobel_y_kernel_seq, mode=\"constant\", cval=0)\n",
        "\n",
        "        # Calculate the magnitude of the gradients\n",
        "        edge_magnitude = np.sqrt(edge_x ** 2 + edge_y ** 2)\n",
        "\n",
        "        # Normalize the edge magnitude to the range [0, 255]\n",
        "        edge_magnitude = edge_magnitude.astype(np.uint8)\n",
        "\n",
        "        # Create a PIL Image from the numpy array\n",
        "        edge_image = Image.fromarray(edge_magnitude)\n",
        "\n",
        "        # Save the edge-detected image to the output folder\n",
        "        img_output_path = os.path.join(output_folder, f'edge_{index}.png')\n",
        "        edge_image.save(img_output_path)"
      ]
    },
    {
      "cell_type": "markdown",
      "id": "a5d1653b-d320-495e-b0f2-44ef9a26c541",
      "metadata": {
        "id": "a5d1653b-d320-495e-b0f2-44ef9a26c541"
      },
      "source": [
        "## Parallel Edge Detection Algorithm"
      ]
    },
    {
      "cell_type": "markdown",
      "id": "33e31263",
      "metadata": {
        "id": "33e31263"
      },
      "source": [
        "#### Libraries"
      ]
    },
    {
      "cell_type": "code",
      "execution_count": 11,
      "id": "d7796ae2",
      "metadata": {
        "id": "d7796ae2"
      },
      "outputs": [],
      "source": [
        "import torchvision.transforms as transforms\n",
        "from torchvision.datasets import ImageFolder\n",
        "from torch.utils.data import DataLoader\n",
        "from torch.nn.functional import conv2d\n",
        "import math\n",
        "from torchvision.transforms.functional import to_pil_image"
      ]
    },
    {
      "cell_type": "markdown",
      "id": "8fbb98fd",
      "metadata": {
        "id": "8fbb98fd"
      },
      "source": [
        "### Parallel Single Image Algorithm"
      ]
    },
    {
      "cell_type": "code",
      "execution_count": 12,
      "id": "b2853391",
      "metadata": {
        "id": "b2853391"
      },
      "outputs": [],
      "source": [
        "def parallel_single(input_image_path, output_image_path, patch_size=patch_size, overlap=2):\n",
        "    # Load the large image and convert it to grayscale\n",
        "    large_img = Image.open(input_image_path).convert(\"L\")\n",
        "    \n",
        "    width, height = large_img.size\n",
        "    # Calculate the number of patches required to cover the image, get the padding size to be added\n",
        "    pad_width = (math.ceil((width - overlap) / (patch_size - overlap)) - 1) * (patch_size - overlap) + patch_size - width\n",
        "    pad_height = (math.ceil((height - overlap) / (patch_size - overlap)) - 1) * (patch_size - overlap) + patch_size - height\n",
        "\n",
        "    # Add padding to the image\n",
        "    large_img = ImageOps.expand(large_img, (0, 0, pad_width, pad_height), fill=0)\n",
        "    # large_img.save(output_image_path)\n",
        "    \n",
        "    # New widtch and height\n",
        "    new_width, new_height = large_img.size\n",
        "\n",
        "    # Calculate the number of patches along width and height\n",
        "    # Come back and fix this so it isn't calculated twice\n",
        "    num_patches_w = math.ceil((new_width - overlap) / (patch_size - overlap))\n",
        "    num_patches_h = math.ceil((new_height - overlap) / (patch_size - overlap))\n",
        "\n",
        "    # Create an empty image to store the edge-detected result\n",
        "    output_img = Image.new(\"L\", (new_width, new_height))\n",
        "    \n",
        "    patches = []\n",
        "\n",
        "    for i in range(num_patches_h):\n",
        "        for j in range(num_patches_w):\n",
        "            # Extract a patch from the large image\n",
        "            left = j * (patch_size - overlap)\n",
        "            upper = i * (patch_size - overlap)\n",
        "            right = min(left + patch_size, new_width)\n",
        "            lower = min(upper + patch_size, new_height)\n",
        "            patch = large_img.crop((left, upper, right, lower))\n",
        "\n",
        "            # Convert the patch to a tensor\n",
        "            patch_tensor = transforms.ToTensor()(patch)\n",
        "            \n",
        "            # Append the patch tensor to the patches list\n",
        "            patches.append(patch_tensor)\n",
        "\n",
        "    del large_img\n",
        "    gc.collect()\n",
        "            \n",
        "    # Split the patches list into smaller sublists (batches)\n",
        "    patch_batches = [patches[i:i + batch_size] for i in range(0, len(patches), batch_size)]\n",
        "        \n",
        "    for batch_idx, patch_batch in enumerate(patch_batches):\n",
        "        # Stack the patch tensors together into a single tensor\n",
        "        patches_tensor = torch.stack(patch_batch).to(device)\n",
        "        \n",
        "        # Convolve the patches with the Sobel kernels\n",
        "        edge_x = conv2d(patches_tensor, sobel_x_kernel_expanded, padding=1)\n",
        "        edge_y = conv2d(patches_tensor, sobel_y_kernel_expanded, padding=1)\n",
        "\n",
        "        # Combine the horizontal and vertical edges using the L2 norm\n",
        "        #edge_detected_patches = torch.sqrt(edge_x ** 2 + edge_y ** 2).squeeze()\n",
        "        edge_detected_patches = torch.sqrt(edge_x ** 2 + edge_y ** 2)\n",
        "\n",
        "        # Process the edge-detected patches and paste them into the output image\n",
        "        for i, edge_detected_patch in enumerate(edge_detected_patches):\n",
        "            # Convert the edge-detected patch back to a PIL image\n",
        "            edge_detected_patch = to_pil_image(edge_detected_patch.cpu())\n",
        "            # Crop the patch to remove the top and left two pixels\n",
        "            edge_detected_patch = edge_detected_patch.crop((2, 2, edge_detected_patch.width, edge_detected_patch.height))\n",
        "\n",
        "            # Calculate the index of the patch in the original patches list\n",
        "            original_patch_idx = batch_idx * batch_size + i\n",
        "\n",
        "            # Calculate the position of the patch in the output image\n",
        "            row_idx = original_patch_idx // num_patches_w\n",
        "            col_idx = original_patch_idx % num_patches_w\n",
        "            left = col_idx * (patch_size - overlap)\n",
        "            upper = row_idx * (patch_size - overlap)\n",
        "\n",
        "            # Paste the edge-detected patch into the output image\n",
        "            output_img.paste(edge_detected_patch, (left, upper))\n",
        "            del edge_detected_patch\n",
        "        # Send the tensor back to the cpu to save space\n",
        "        patches_tensor = patches_tensor.cpu()\n",
        "        edge_x = edge_x.cpu()\n",
        "        edge_y = edge_y.cpu()\n",
        "        edge_detected_patches = edge_detected_patches.cpu()\n",
        "        del patches_tensor\n",
        "        del edge_x\n",
        "        del edge_y\n",
        "        del edge_detected_patches\n",
        "        torch.cuda.empty_cache()\n",
        "        gc.collect()\n",
        "\n",
        "    # Trim the output image to its original size before saving\n",
        "    output_img = output_img.crop((0, 0, width, height))\n",
        "    # Save the edge-detected large image\n",
        "    output_img.save(output_image_path)\n",
        "    \n",
        "    # Garbage collect\n",
        "    del output_img\n",
        "    del patch_batches\n",
        "    gc.collect()"
      ]
    },
    {
      "cell_type": "markdown",
      "id": "95419e6d-cb20-4b59-aa41-f7b548b0ac33",
      "metadata": {
        "id": "95419e6d-cb20-4b59-aa41-f7b548b0ac33"
      },
      "source": [
        "### Parallel Multiple Image Algorithm"
      ]
    },
    {
      "cell_type": "code",
      "execution_count": 13,
      "id": "eac18c94",
      "metadata": {
        "id": "eac18c94"
      },
      "outputs": [],
      "source": [
        "# Finds edges for all the images in a folder in parallel\n",
        "def parallel_multiple(img_folder, output_folder):\n",
        "    # Define the transformation pipeline (it's not much \n",
        "    # a pipline, because I'm only converting to tensors)\n",
        "    transform = transforms.Compose([\n",
        "        transforms.Grayscale(num_output_channels=1),\n",
        "        transforms.ToTensor()\n",
        "    ])\n",
        "    \n",
        "    # Create an ImageFolder dataset\n",
        "    dataset = ImageFolder(root=img_folder, transform=transform)\n",
        "    \n",
        "    # Create a DataLoader to handle batching\n",
        "    dataloader = DataLoader(dataset, batch_size=16, shuffle=False, num_workers=num_workers)\n",
        "    \n",
        "    for batch_idx, (data, _) in enumerate(dataloader):\n",
        "        # Move the data to the GPU\n",
        "        data = data.to(device)\n",
        "        \n",
        "        # Convolve the image with the Sobel kernels\n",
        "        edge_x = conv2d(data, sobel_x_kernel_expanded, padding=1)\n",
        "        edge_y = conv2d(data, sobel_y_kernel_expanded, padding=1)\n",
        "\n",
        "        # Combine the horizontal and vertical edges using the L2 norm\n",
        "        edge_detected_batch = torch.sqrt(edge_x ** 2 + edge_y ** 2).squeeze()\n",
        "\n",
        "        # Save each image\n",
        "        for index, edge_detected_image in enumerate(edge_detected_batch):\n",
        "            img_output_path = os.path.join(output_folder, f'edge_{batch_idx * batch_size + index}.png')\n",
        "            save_image_from_tensor(edge_detected_image.cpu(), img_output_path)\n",
        "        # Send the data back to the cpu to save space\n",
        "        data = data.cpu()\n",
        "        edge_detected_batch = edge_detected_batch.cpu()\n",
        "        edge_x = edge_x.cpu()\n",
        "        edge_y = edge_y.cpu()        \n",
        "        del data\n",
        "        del edge_detected_batch\n",
        "        del edge_x\n",
        "        del edge_y\n",
        "        torch.cuda.empty_cache()\n",
        "        gc.collect()\n",
        "\n",
        "    del dataloader\n",
        "    del transform\n",
        "    del dataset\n",
        "    torch.cuda.empty_cache()\n",
        "    gc.collect()"
      ]
    },
    {
      "cell_type": "markdown",
      "id": "343d89b7-69b6-44c5-beba-0aae2ff25e22",
      "metadata": {
        "id": "343d89b7-69b6-44c5-beba-0aae2ff25e22"
      },
      "source": [
        "## Run Algorithms and Measure for Speed"
      ]
    },
    {
      "cell_type": "code",
      "execution_count": 14,
      "id": "7c753ce7",
      "metadata": {
        "id": "7c753ce7"
      },
      "outputs": [],
      "source": [
        "import timeit\n",
        "\n",
        "# Function to time functions over all image paths\n",
        "# and return a list of times\n",
        "def time_function(function, paths):\n",
        "    print('timing functions')\n",
        "    time_list = []\n",
        "    for path in paths:\n",
        "        print('.')\n",
        "        # Record the start time\n",
        "        start_time = timeit.default_timer()\n",
        "        # Run the function\n",
        "        function(path[0], path[1])\n",
        "        # End timer, calculate time, append time to list\n",
        "        end_time = timeit.default_timer()\n",
        "        elapsed_time = end_time - start_time\n",
        "        time_list.append(elapsed_time)\n",
        "    print()\n",
        "    return time_list"
      ]
    },
    {
      "cell_type": "code",
      "execution_count": 15,
      "id": "66727438",
      "metadata": {
        "scrolled": false,
        "colab": {
          "base_uri": "https://localhost:8080/"
        },
        "id": "66727438",
        "outputId": "bbaa8564-8cd7-4972-9afc-67edac9edd2d"
      },
      "outputs": [
        {
          "output_type": "stream",
          "name": "stdout",
          "text": [
            "timing functions\n",
            ".\n",
            ".\n",
            ".\n",
            ".\n",
            "\n",
            "timing functions\n",
            ".\n",
            ".\n",
            ".\n",
            ".\n",
            "\n",
            "timing functions\n",
            ".\n",
            ".\n",
            ".\n",
            ".\n",
            "\n",
            "timing functions\n",
            ".\n",
            ".\n",
            ".\n",
            ".\n",
            "\n"
          ]
        }
      ],
      "source": [
        "# List of multiple, sequential times\n",
        "mult_seq_timings = time_function(sequential_multiple, multiple_sequential_paths)\n",
        "\n",
        "# List of multiple, parallel times\n",
        "mult_par_timings = time_function(parallel_multiple, multiple_parallel_paths)\n",
        "\n",
        "# List of single, sequential times\n",
        "sing_seq_timings = time_function(sequential_single, single_sequential_paths)\n",
        "\n",
        "# List of single, parallel times\n",
        "sing_par_timings = time_function(parallel_single, single_parallel_paths)"
      ]
    },
    {
      "cell_type": "code",
      "execution_count": 16,
      "id": "00e614c7",
      "metadata": {
        "colab": {
          "base_uri": "https://localhost:8080/"
        },
        "id": "00e614c7",
        "outputId": "1cffa03e-f1fc-4d58-c74e-a0d6d1a23707"
      },
      "outputs": [
        {
          "output_type": "stream",
          "name": "stdout",
          "text": [
            "[22.003112266000016, 85.05165111599999, 269.80409880599996, 1065.8963119139999]\n",
            "[12.81221666500005, 48.897275734000004, 188.2015513639999, 719.8997320580002]\n",
            "[0.5234246630002417, 0.739919509000174, 3.6819312009997702, 23.62366138799962]\n",
            "[0.3832444130002841, 0.5060507260000122, 3.0920678070001486, 19.863250015000176]\n"
          ]
        }
      ],
      "source": [
        "print(mult_seq_timings)\n",
        "print(mult_par_timings)\n",
        "print(sing_seq_timings)\n",
        "print(sing_par_timings)"
      ]
    },
    {
      "cell_type": "markdown",
      "id": "9003f270-7d3e-4425-9709-aeb823549e1d",
      "metadata": {
        "id": "9003f270-7d3e-4425-9709-aeb823549e1d"
      },
      "source": [
        "### Print Figures"
      ]
    },
    {
      "cell_type": "code",
      "execution_count": 17,
      "id": "52b0febd",
      "metadata": {
        "colab": {
          "base_uri": "https://localhost:8080/",
          "height": 515
        },
        "id": "52b0febd",
        "outputId": "04999dd0-ec61-4236-bb59-8bc317027c73"
      },
      "outputs": [
        {
          "output_type": "display_data",
          "data": {
            "text/plain": [
              "<Figure size 1000x500 with 2 Axes>"
            ],
            "image/png": "[encoded data removed]"
          },
          "metadata": {}
        }
      ],
      "source": [
        "import numpy as np\n",
        "import matplotlib.pyplot as plt\n",
        "\n",
        "# Create the bar graph with two subfigures\n",
        "fig, (ax1, ax2) = plt.subplots(1, 2, figsize=(10, 5))\n",
        "\n",
        "# Subfigure 1: Multiple images\n",
        "width = 0.35\n",
        "labels1 = ['16', '64', '256', '1024']\n",
        "x1 = np.arange(len(labels1))\n",
        "\n",
        "ax1.bar(x1 - width/2, mult_seq_timings, width, label='Sequential')\n",
        "ax1.bar(x1 + width/2, mult_par_timings, width, label='Parallel')\n",
        "\n",
        "ax1.set_ylabel('Time (seconds)')\n",
        "ax1.set_xlabel('Number of images')\n",
        "ax1.set_title('Multiple Images')\n",
        "ax1.set_xticks(x1)\n",
        "ax1.set_xticklabels(labels1)\n",
        "ax1.legend()\n",
        "\n",
        "# Subfigure 2: Single large images\n",
        "labels2 = ['0.09', '1.46', '22.11', '300.42']\n",
        "x2 = np.arange(len(labels2))\n",
        "\n",
        "ax2.bar(x2 - width/2, sing_seq_timings, width, label='Sequential')\n",
        "ax2.bar(x2 + width/2, sing_par_timings, width, label='Parallel')\n",
        "\n",
        "ax2.set_ylabel('Time (seconds)')\n",
        "ax2.set_xlabel('Size (millions of pixels)')\n",
        "ax2.set_title('Single Large Images')\n",
        "ax2.set_xticks(x2)\n",
        "ax2.set_xticklabels(labels2)\n",
        "ax2.legend()\n",
        "\n",
        "# Add a title for the entire figure\n",
        "fig.suptitle('Google Colab Environment')\n",
        "\n",
        "# Save the figure to a file\n",
        "plt.savefig('output_image.png', dpi=300, bbox_inches='tight')\n",
        "\n",
        "# Optionally, display the plot\n",
        "plt.show()"
      ]
    },
    {
      "cell_type": "code",
      "source": [
        "# Calculate the time ratios\n",
        "mult_time_ratios = [seq/par for seq, par in zip(mult_seq_timings, mult_par_timings)]\n",
        "sing_time_ratios = [seq/par for seq, par in zip(sing_seq_timings, sing_par_timings)]\n",
        "\n",
        "# Create the bar graph with two subfigures\n",
        "fig, (ax1, ax2) = plt.subplots(1, 2, figsize=(10, 5))\n",
        "\n",
        "# Subfigure 1: Multiple images\n",
        "width = 0.35\n",
        "labels1 = ['16', '64', '256', '1024']\n",
        "x1 = np.arange(len(labels1))\n",
        "\n",
        "ax1.bar(x1, [max(0, ratio-1) for ratio in mult_time_ratios], width, bottom=1, color='blue')\n",
        "ax1.bar(x1, [min(0, ratio-1) for ratio in mult_time_ratios], width, bottom=1, color='red')\n",
        "\n",
        "ax1.set_ylabel('Time Ratio (Sequential/Parallel)')\n",
        "ax1.set_xlabel('Number of images')\n",
        "ax1.set_title('Multiple Images')\n",
        "ax1.set_xticks(x1)\n",
        "ax1.set_xticklabels(labels1)\n",
        "ax1.axhline(1, color='black', linewidth=0.8)\n",
        "\n",
        "# Subfigure 2: Single large images\n",
        "labels2 = ['0.09', '1.46', '22.11', '300.42']\n",
        "x2 = np.arange(len(labels2))\n",
        "\n",
        "ax2.bar(x2, [max(0, ratio-1) for ratio in sing_time_ratios], width, bottom=1, color='blue')\n",
        "ax2.bar(x2, [min(0, ratio-1) for ratio in sing_time_ratios], width, bottom=1, color='red')\n",
        "\n",
        "ax2.set_ylabel('Time Ratio (Sequential/Parallel)')\n",
        "ax2.set_xlabel('Size (millions of pixels)')\n",
        "ax2.set_title('Single Large Images')\n",
        "ax2.set_xticks(x2)\n",
        "ax2.set_xticklabels(labels2)\n",
        "ax2.axhline(1, color='black', linewidth=0.8)\n",
        "\n",
        "# Add a title for the entire figure\n",
        "fig.suptitle('Google Colab Environment')\n",
        "\n",
        "# Save the figure to a file\n",
        "plt.savefig('output_ratio_image.png', dpi=300, bbox_inches='tight')\n",
        "\n",
        "# Optionally, display the plot\n",
        "plt.show()\n"
      ],
      "metadata": {
        "colab": {
          "base_uri": "https://localhost:8080/",
          "height": 515
        },
        "id": "aKBoxHnIOOxs",
        "outputId": "cbd75c2c-a14a-4570-f257-fb41732d62c4"
      },
      "id": "aKBoxHnIOOxs",
      "execution_count": 18,
      "outputs": [
        {
          "output_type": "display_data",
          "data": {
            "text/plain": [
              "<Figure size 1000x500 with 2 Axes>"
            ],
            "image/png": "[encoded data removed]"
          },
          "metadata": {}
        }
      ]
    },
    {
      "cell_type": "code",
      "source": [
        "# Compute the speedup ratios\n",
        "mult_speedup = np.array(mult_seq_timings) / np.array(mult_par_timings)\n",
        "sing_speedup = np.array(sing_seq_timings) / np.array(sing_par_timings)\n",
        "\n",
        "# Create the speedup ratio plot with two subfigures\n",
        "fig, (ax1, ax2) = plt.subplots(1, 2, figsize=(10, 5))\n",
        "\n",
        "# Subfigure 1: Multiple images\n",
        "labels1 = ['16', '64', '256', '1024']\n",
        "x1 = np.arange(len(labels1))\n",
        "\n",
        "ax1.plot(x1, mult_speedup, marker='o', label='Speedup')\n",
        "\n",
        "ax1.set_ylabel('Speedup Ratio')\n",
        "ax1.set_xlabel('Number of images')\n",
        "ax1.set_title('Multiple Images Speedup')\n",
        "ax1.set_xticks(x1)\n",
        "ax1.set_xticklabels(labels1)\n",
        "ax1.legend()\n",
        "\n",
        "# Subfigure 2: Single large images\n",
        "labels2 = ['0.09', '1.46', '22.11', '300.42']\n",
        "x2 = np.arange(len(labels2))\n",
        "\n",
        "ax2.plot(x2, sing_speedup, marker='o', label='Speedup')\n",
        "\n",
        "ax2.set_ylabel('Speedup Ratio')\n",
        "ax2.set_xlabel('Size (millions of pixels)')\n",
        "ax2.set_title('Single Large Images Speedup')\n",
        "ax2.set_xticks(x2)\n",
        "ax2.set_xticklabels(labels2)\n",
        "ax2.legend()\n",
        "\n",
        "# Add a title for the entire figure\n",
        "fig.suptitle('Google Colab Environment')\n",
        "\n",
        "# Save the figure to a file\n",
        "plt.savefig('speedup_plot.png', dpi=300, bbox_inches='tight')\n",
        "\n",
        "# Optionally, display the plot\n",
        "plt.show()\n"
      ],
      "metadata": {
        "colab": {
          "base_uri": "https://localhost:8080/",
          "height": 535
        },
        "id": "zCCWl_xa0QE5",
        "outputId": "300e808e-4dd9-4bbb-9409-67fb81c7cb23"
      },
      "id": "zCCWl_xa0QE5",
      "execution_count": 20,
      "outputs": [
        {
          "output_type": "display_data",
          "data": {
            "text/plain": [
              "<Figure size 1000x500 with 2 Axes>"
            ],
            "image/png": "[encoded data removed]"
          },
          "metadata": {}
        }
      ]
    }
  ],
  "metadata": {
    "kernelspec": {
      "display_name": "Python 3 (ipykernel)",
      "language": "python",
      "name": "python3"
    },
    "language_info": {
      "codemirror_mode": {
        "name": "ipython",
        "version": 3
      },
      "file_extension": ".py",
      "mimetype": "text/x-python",
      "name": "python",
      "nbconvert_exporter": "python",
      "pygments_lexer": "ipython3",
      "version": "3.10.9"
    },
    "colab": {
      "provenance": [],
      "machine_shape": "hm",
      "include_colab_link": true
    },
    "gpuClass": "standard",
    "accelerator": "TPU"
  },
  "nbformat": 4,
  "nbformat_minor": 5
}